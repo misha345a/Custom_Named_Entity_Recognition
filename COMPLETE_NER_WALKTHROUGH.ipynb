{
 "cells": [
  {
   "cell_type": "markdown",
   "metadata": {},
   "source": [
    "# Auto-Detection With Custom Named Entity Recognition (NER) \n"
   ]
  },
  {
   "cell_type": "code",
   "execution_count": 1,
   "metadata": {},
   "outputs": [],
   "source": [
    "# pip install -U pip setuptools wheel\n",
    "# pip install -U spacy\n",
    "# python -m spacy download en_core_web_sm"
   ]
  },
  {
   "cell_type": "code",
   "execution_count": 2,
   "metadata": {},
   "outputs": [],
   "source": [
    "# library imports\n",
    "import pandas as pd\n",
    "import spacy\n",
    "from spacy import displacy\n",
    "from spacy.tokens import DocBin\n",
    "from datetime import datetime\n",
    "from tqdm import tqdm\n",
    "import json\n",
    "import re"
   ]
  },
  {
   "cell_type": "markdown",
   "metadata": {},
   "source": [
    "## Annotation"
   ]
  },
  {
   "cell_type": "code",
   "execution_count": 3,
   "metadata": {},
   "outputs": [],
   "source": [
    "# this dictionary will contain all annotated examples\n",
    "collective_dict = {'TRAINING_DATA': []}\n",
    "\n",
    "def structure_training_data(text, kw_list):\n",
    "    results = []\n",
    "    entities = []\n",
    "    \n",
    "    # search for instances of keywords within the text (ignoring letter case)\n",
    "    for kw in tqdm(kw_list):\n",
    "        search = re.finditer(kw, text, flags=re.IGNORECASE)\n",
    "        \n",
    "        # store the start/end character positions\n",
    "        all_instances = [[m.start(),m.end()] for m in search] \n",
    "        \n",
    "        # if the callable_iterator found matches, create an 'entities' list\n",
    "        if len(all_instances)>0:\n",
    "            for i in all_instances:\n",
    "                start = i[0]\n",
    "                end = i[1]\n",
    "                entities.append((start, end, \"SERVICE\"))\n",
    "            \n",
    "        # alert when no matches are found given the user inputs\n",
    "        else:\n",
    "            print(\"No pattern matches found. Keyword:\", kw)\n",
    "                \n",
    "    # add any found entities into a JSON format within collective_dict\n",
    "    if len(entities)>0:\n",
    "        results = [text, {\"entities\": entities}]\n",
    "        collective_dict['TRAINING_DATA'].append(results)\n",
    "        return"
   ]
  },
  {
   "cell_type": "markdown",
   "metadata": {},
   "source": [
    "## Preparing the Training Data"
   ]
  },
  {
   "cell_type": "code",
   "execution_count": 4,
   "metadata": {},
   "outputs": [
    {
     "name": "stderr",
     "output_type": "stream",
     "text": [
      "100%|██████████████████████████████████████████| 3/3 [00:00<00:00, 3000.22it/s]\n",
      "100%|██████████████████████████████████████████| 3/3 [00:00<00:00, 3000.22it/s]\n",
      "100%|██████████████████████████████████████████| 3/3 [00:00<00:00, 3000.22it/s]\n",
      "100%|██████████████████████████████████████████| 4/4 [00:00<00:00, 1999.91it/s]\n"
     ]
    }
   ],
   "source": [
    "text1 = \"BigTime Care has a broad array of service offerings for Philadelphia-area clientele. \\\n",
    "For 50 years, we have specialized in landscaping and lawn mowing. \\\n",
    "We also provide seasonal snow removal services for local commercial and residential properties. \\\n",
    "Call any time to schedule a consultation!\"\n",
    "\n",
    "text2 = \"Scrub-O Cleaning connects independent professionals with customers. \\\n",
    "We offer the full range of customizable cleaning services that you may need now and in \\\n",
    "the future, and our team is ready to begin working for you today! We offer quality maid \\\n",
    "services and housekeeping across the San Francisco Bay Area.\"\n",
    "\n",
    "text3 = \"Locally owned and operated, Trust Roofing has the best roofing services in \\\n",
    "Philadelphia and the surrounding areas. Whatever the season, you can count on us to provide \\\n",
    "you with the best possible roof repair. We will work with any given roof replacement material, \\\n",
    "including asphalt shingles and metal roofs. Siding replacement services are also available.\"\n",
    "\n",
    "text4 = \"Based in Pittsburgh PA, Tammy's Branch Cuts is a family owned and managed smalled \\\n",
    "businesses founded in 1994. We specialize in full-service landscape design, including \\\n",
    "tree removal, lawn care to protect your existing plants, and comprehensive hardscaping for \\\n",
    "patios, walkways, and outdoor living spaces. Contact us today!\"\n",
    "\n",
    "# TRAINING\n",
    "structure_training_data(text1, ['landscaping', 'lawn mowing', 'snow removal'])\n",
    "structure_training_data(text2, ['cleaning services', 'maid services', 'housekeeping'])\n",
    "structure_training_data(text3, ['roofing', 'roof repair', 'siding replacement'])\n",
    "structure_training_data(text4, ['landscape design', 'tree removal', 'lawn care', 'hardscaping'])"
   ]
  },
  {
   "cell_type": "code",
   "execution_count": 5,
   "metadata": {},
   "outputs": [
    {
     "data": {
      "text/plain": [
       "{'TRAINING_DATA': [['BigTime Care has a broad array of service offerings for Philadelphia-area clientele. For 50 years, we have specialized in landscaping and lawn mowing. We also provide seasonal snow removal services for local commercial and residential properties. Call any time to schedule a consultation!',\n",
       "   {'entities': [(122, 133, 'SERVICE'),\n",
       "     (138, 149, 'SERVICE'),\n",
       "     (176, 188, 'SERVICE')]}],\n",
       "  ['Scrub-O Cleaning connects independent professionals with customers. We offer the full range of customizable cleaning services that you may need now and in the future, and our team is ready to begin working for you today! We offer quality maid services and housekeeping across the San Francisco Bay Area.',\n",
       "   {'entities': [(108, 125, 'SERVICE'),\n",
       "     (238, 251, 'SERVICE'),\n",
       "     (256, 268, 'SERVICE')]}],\n",
       "  ['Locally owned and operated, Trust Roofing has the best roofing services in Philadelphia and the surrounding areas. Whatever the season, you can count on us to provide you with the best possible roof repair. We will work with any given roof replacement material, including asphalt shingles and metal roofs. Siding replacement services are also available.',\n",
       "   {'entities': [(34, 41, 'SERVICE'),\n",
       "     (55, 62, 'SERVICE'),\n",
       "     (194, 205, 'SERVICE'),\n",
       "     (306, 324, 'SERVICE')]}],\n",
       "  [\"Based in Pittsburgh PA, Tammy's Branch Cuts is a family owned and managed smalled businesses founded in 1994. We specialize in full-service landscape design, including tree removal, lawn care to protect your existing plants, and comprehensive hardscaping for patios, walkways, and outdoor living spaces. Contact us today!\",\n",
       "   {'entities': [(140, 156, 'SERVICE'),\n",
       "     (168, 180, 'SERVICE'),\n",
       "     (182, 191, 'SERVICE'),\n",
       "     (243, 254, 'SERVICE')]}]]}"
      ]
     },
     "execution_count": 5,
     "metadata": {},
     "output_type": "execute_result"
    }
   ],
   "source": [
    "# show a view of the resulting training data\n",
    "collective_dict"
   ]
  },
  {
   "cell_type": "markdown",
   "metadata": {},
   "source": [
    "## Saving the Training Data "
   ]
  },
  {
   "cell_type": "code",
   "execution_count": 6,
   "metadata": {},
   "outputs": [],
   "source": [
    "# option to timestamp and save training data to local directory\n",
    "def save_data(filename, data):\n",
    "    \n",
    "    # add a timestamp to the filename\n",
    "    now = datetime.now() \n",
    "    datetime_str = now.strftime(\"%m_%d_%Y-%H.%MMT\") # using military time\n",
    "    \n",
    "    split = filename.split('.')\n",
    "    split[0] = split[0]+'--'+datetime_str+'.'\n",
    "    filename = ''.join(split)\n",
    "    \n",
    "    with open (filename, \"w\", encoding=\"utf-8\") as f:\n",
    "        json.dump(data, f, indent=4)\n",
    "\n",
    "# save_data('Training_Data', collective_dict)"
   ]
  },
  {
   "cell_type": "markdown",
   "metadata": {},
   "source": [
    "## Preparing SpaCy Doc Objects"
   ]
  },
  {
   "cell_type": "code",
   "execution_count": 7,
   "metadata": {},
   "outputs": [],
   "source": [
    "# define our training data to TRAIN_DATA\n",
    "TRAIN_DATA = collective_dict['TRAINING_DATA']"
   ]
  },
  {
   "cell_type": "code",
   "execution_count": 8,
   "metadata": {},
   "outputs": [
    {
     "name": "stderr",
     "output_type": "stream",
     "text": [
      "100%|███████████████████████████████████████████| 4/4 [00:00<00:00, 222.21it/s]\n"
     ]
    }
   ],
   "source": [
    "# create a blank model\n",
    "nlp = spacy.blank('en')\n",
    "\n",
    "def create_training(TRAIN_DATA):\n",
    "    db = DocBin()\n",
    "    for text, annot in tqdm(TRAIN_DATA):\n",
    "        doc = nlp.make_doc(text)\n",
    "        ents = []\n",
    "\n",
    "        # create span objects\n",
    "        for start, end, label in annot[\"entities\"]:\n",
    "            span = doc.char_span(start, end, label=label, alignment_mode=\"contract\") \n",
    "\n",
    "            # skip if the character indices do not map to a valid span\n",
    "            if span is None:\n",
    "                print(\"Skipping entity.\")\n",
    "            else:\n",
    "                ents.append(span)\n",
    "                # handle erroneous entity annotations by removing them\n",
    "                try:\n",
    "                    doc.ents = ents\n",
    "                except:\n",
    "                    # print(\"BAD SPAN:\", span, \"\\n\")\n",
    "                    ents.pop()\n",
    "        doc.ents = ents\n",
    "\n",
    "        # pack Doc objects into DocBin\n",
    "        db.add(doc)\n",
    "    return db\n",
    "\n",
    "TRAIN_DATA_DOC = create_training(TRAIN_DATA)"
   ]
  },
  {
   "cell_type": "code",
   "execution_count": 9,
   "metadata": {},
   "outputs": [],
   "source": [
    "# Export results (here I add it to a TRAIN_DATA folder within the directory)\n",
    "TRAIN_DATA_DOC.to_disk(\"./TRAIN_DATA/TRAIN_DATA.spacy\")"
   ]
  },
  {
   "cell_type": "markdown",
   "metadata": {},
   "source": [
    "## Training a Blank NER Model (with CLI)"
   ]
  },
  {
   "cell_type": "markdown",
   "metadata": {},
   "source": [
    "<b>STEP 1:</b> Copy/paste the full contents of spaCy's default config file <br>\n",
    "into a file named base_config.cfg within your folder directory. <br>\n",
    "https://spacy.io/usage/training#config\n",
    "\n",
    "<b>STEP 2:</b> Define filepaths for the train and dev variables in base_config.cfg <br>\n",
    "\n",
    "<b>STEP 3:</b> Open Command Prompt, and cd over to the directory of base_config.cfg <br>\n",
    "\n",
    "<b>STEP 4</b>: Run the following to create the necessary .cfg file: <br>\n",
    "<i> python -m spacy init fill-config base_config.cfg config.cfg </i> <br>\n",
    "\\- (a config.cfg file will appear in the current directory) </i>\n",
    "\n",
    "<b>STEP 5:</b> Next run the following to begin training: <br>\n",
    "<i> python -m spacy train config.cfg --output ./output </i> <br>\n",
    "\\- (the model results will appear in a new folder called output) "
   ]
  },
  {
   "cell_type": "markdown",
   "metadata": {},
   "source": [
    "## Model Demonstrations"
   ]
  },
  {
   "cell_type": "code",
   "execution_count": 10,
   "metadata": {
    "scrolled": true
   },
   "outputs": [],
   "source": [
    "# load the trained model\n",
    "nlp_output = spacy.load(\"output/model-best\")\n",
    "    \n",
    "def model_visualization(text):\n",
    "\n",
    "    # pass our test instance into the trained pipeline\n",
    "    doc = nlp_output(text)\n",
    "\n",
    "    # customize the label colors\n",
    "    colors = {\"SERVICE\": \"linear-gradient(90deg, #E1D436, #F59710)\"}\n",
    "    options = {\"ents\": [\"SERVICE\"], \"colors\": colors}\n",
    "\n",
    "    # visualize the identified entities\n",
    "    displacy.render(doc, style=\"ent\", \n",
    "                    options=options)\n",
    "\n",
    "    # print out the identified entities\n",
    "    print(\"IDENTIFIED ENTITIES:\")\n",
    "    [print(ent.text) for ent in doc.ents if ent.label_ == \"SERVICE\"]"
   ]
  },
  {
   "cell_type": "markdown",
   "metadata": {},
   "source": [
    "### Below are 3 test cases demonstrating the model's capabilites. \n",
    " \n",
    " <font size=\"3\">Notice that the model was trained on merely four training instances, yet still <br> generalizes to detect various services that were <b>not</b> part of the original training. \n",
    "    <br><br> \n",
    "    Of course, much more training is needed to increase model accuracy. \n",
    " </font>\n"
   ]
  },
  {
   "cell_type": "code",
   "execution_count": 11,
   "metadata": {},
   "outputs": [
    {
     "data": {
      "text/html": [
       "<span class=\"tex2jax_ignore\"><div class=\"entities\" style=\"line-height: 2.5; direction: ltr\">At Perfection Landscapes LLC, we are committed to protecting the health of trees and shrubs in urban and suburban areas. We work with clients to provide expertise in all areas of \n",
       "<mark class=\"entity\" style=\"background: linear-gradient(90deg, #E1D436, #F59710); padding: 0.45em 0.6em; margin: 0 0.25em; line-height: 1; border-radius: 0.35em;\">\n",
       "    tree care\n",
       "    <span style=\"font-size: 0.8em; font-weight: bold; line-height: 1; border-radius: 0.35em; vertical-align: middle; margin-left: 0.5rem\">SERVICE</span>\n",
       "</mark>\n",
       ", \n",
       "<mark class=\"entity\" style=\"background: linear-gradient(90deg, #E1D436, #F59710); padding: 0.45em 0.6em; margin: 0 0.25em; line-height: 1; border-radius: 0.35em;\">\n",
       "    stump removal\n",
       "    <span style=\"font-size: 0.8em; font-weight: bold; line-height: 1; border-radius: 0.35em; vertical-align: middle; margin-left: 0.5rem\">SERVICE</span>\n",
       "</mark>\n",
       ", and construction-related \n",
       "<mark class=\"entity\" style=\"background: linear-gradient(90deg, #E1D436, #F59710); padding: 0.45em 0.6em; margin: 0 0.25em; line-height: 1; border-radius: 0.35em;\">\n",
       "    tree preservation\n",
       "    <span style=\"font-size: 0.8em; font-weight: bold; line-height: 1; border-radius: 0.35em; vertical-align: middle; margin-left: 0.5rem\">SERVICE</span>\n",
       "</mark>\n",
       ". Our trained experts also have years of experience with insect control. Call us today for a consultation!</div></span>"
      ],
      "text/plain": [
       "<IPython.core.display.HTML object>"
      ]
     },
     "metadata": {},
     "output_type": "display_data"
    },
    {
     "name": "stdout",
     "output_type": "stream",
     "text": [
      "IDENTIFIED ENTITIES:\n",
      "tree care\n",
      "stump removal\n",
      "tree preservation\n"
     ]
    }
   ],
   "source": [
    "test1 = \"At Perfection Landscapes LLC, we are committed to protecting the health of trees \\\n",
    "and shrubs in urban and suburban areas. We work with clients to provide expertise in all areas \\\n",
    "of tree care, stump removal, and construction-related tree preservation. Our trained experts \\\n",
    "also have years of experience with insect control. Call us today for a consultation!\"\n",
    "\n",
    "model_visualization(test1)"
   ]
  },
  {
   "cell_type": "code",
   "execution_count": 12,
   "metadata": {},
   "outputs": [
    {
     "data": {
      "text/html": [
       "<span class=\"tex2jax_ignore\"><div class=\"entities\" style=\"line-height: 2.5; direction: ltr\">J.K. Commercial Cleaning is dedicated to creating clean, safe, and healthy environments. We offer \n",
       "<mark class=\"entity\" style=\"background: linear-gradient(90deg, #E1D436, #F59710); padding: 0.45em 0.6em; margin: 0 0.25em; line-height: 1; border-radius: 0.35em;\">\n",
       "    cleaning programs\n",
       "    <span style=\"font-size: 0.8em; font-weight: bold; line-height: 1; border-radius: 0.35em; vertical-align: middle; margin-left: 0.5rem\">SERVICE</span>\n",
       "</mark>\n",
       " that are tailored to fit your business's individual needs. This includes \n",
       "<mark class=\"entity\" style=\"background: linear-gradient(90deg, #E1D436, #F59710); padding: 0.45em 0.6em; margin: 0 0.25em; line-height: 1; border-radius: 0.35em;\">\n",
       "    janitorial\n",
       "    <span style=\"font-size: 0.8em; font-weight: bold; line-height: 1; border-radius: 0.35em; vertical-align: middle; margin-left: 0.5rem\">SERVICE</span>\n",
       "</mark>\n",
       " services, and consistent quality deep \n",
       "<mark class=\"entity\" style=\"background: linear-gradient(90deg, #E1D436, #F59710); padding: 0.45em 0.6em; margin: 0 0.25em; line-height: 1; border-radius: 0.35em;\">\n",
       "    cleaning services\n",
       "    <span style=\"font-size: 0.8em; font-weight: bold; line-height: 1; border-radius: 0.35em; vertical-align: middle; margin-left: 0.5rem\">SERVICE</span>\n",
       "</mark>\n",
       " for both commercial and residential spaces.</div></span>"
      ],
      "text/plain": [
       "<IPython.core.display.HTML object>"
      ]
     },
     "metadata": {},
     "output_type": "display_data"
    },
    {
     "name": "stdout",
     "output_type": "stream",
     "text": [
      "IDENTIFIED ENTITIES:\n",
      "cleaning programs\n",
      "janitorial\n",
      "cleaning services\n"
     ]
    }
   ],
   "source": [
    "test2 = \"J.K. Commercial Cleaning is dedicated to creating clean, safe, and healthy \\\n",
    "environments. We offer cleaning programs that are tailored to fit your business's individual needs. \\\n",
    "This includes janitorial services, and consistent quality deep cleaning services for both commercial and residential spaces.\"\n",
    "\n",
    "model_visualization(test2)"
   ]
  },
  {
   "cell_type": "code",
   "execution_count": 13,
   "metadata": {},
   "outputs": [
    {
     "data": {
      "text/html": [
       "<span class=\"tex2jax_ignore\"><div class=\"entities\" style=\"line-height: 2.5; direction: ltr\">Small leaks in your bathroom or kitchen can ruin your day. For extensive residential \n",
       "<mark class=\"entity\" style=\"background: linear-gradient(90deg, #E1D436, #F59710); padding: 0.45em 0.6em; margin: 0 0.25em; line-height: 1; border-radius: 0.35em;\">\n",
       "    plumbing\n",
       "    <span style=\"font-size: 0.8em; font-weight: bold; line-height: 1; border-radius: 0.35em; vertical-align: middle; margin-left: 0.5rem\">SERVICE</span>\n",
       "</mark>\n",
       " services at affordable prices, contact J.K. Plumbing today. We do all work according to local, state, and city codes and are backed by over a decade of experience.</div></span>"
      ],
      "text/plain": [
       "<IPython.core.display.HTML object>"
      ]
     },
     "metadata": {},
     "output_type": "display_data"
    },
    {
     "name": "stdout",
     "output_type": "stream",
     "text": [
      "IDENTIFIED ENTITIES:\n",
      "plumbing\n"
     ]
    }
   ],
   "source": [
    "test3 = \"Small leaks in your bathroom or kitchen can ruin your day. For extensive residential plumbing services \\\n",
    "at affordable prices, contact J.K. Plumbing today. We do all work according to local, state, and \\\n",
    "city codes and are backed by over a decade of experience.\"\n",
    "\n",
    "model_visualization(test3)"
   ]
  },
  {
   "cell_type": "code",
   "execution_count": null,
   "metadata": {},
   "outputs": [],
   "source": []
  }
 ],
 "metadata": {
  "kernelspec": {
   "display_name": "Python 3 (ipykernel)",
   "language": "python",
   "name": "python3"
  },
  "language_info": {
   "codemirror_mode": {
    "name": "ipython",
    "version": 3
   },
   "file_extension": ".py",
   "mimetype": "text/x-python",
   "name": "python",
   "nbconvert_exporter": "python",
   "pygments_lexer": "ipython3",
   "version": "3.7.3"
  }
 },
 "nbformat": 4,
 "nbformat_minor": 2
}
